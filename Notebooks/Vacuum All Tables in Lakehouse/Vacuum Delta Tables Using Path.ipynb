{
 "cells": [
  {
   "cell_type": "markdown",
   "id": "c41fc8ab-2d0a-43a6-a0ab-b2d9f2e78665",
   "metadata": {
    "microsoft": {
     "language": "python",
     "language_group": "synapse_pyspark"
    },
    "nteract": {
     "transient": {
      "deleting": false
     }
    }
   },
   "source": [
    "# Vacuum Delta Tables Using Path\n",
    "#### This notebook deletes log files from All Delta Tables using VACUUM command"
   ]
  },
  {
   "cell_type": "code",
   "execution_count": null,
   "id": "d7e0b1d8-35a5-4165-ad86-4b37fa6f69f4",
   "metadata": {
    "microsoft": {
     "language": "python",
     "language_group": "synapse_pyspark"
    }
   },
   "outputs": [],
   "source": [
    "# Get workspace and Lakehouse IDs dynamically\n",
    "# This avoids needing to attach the Lakehouse to the notebook\n",
    "workspace_id = spark.conf.get('trident.workspace.id') \n",
    "lakehouse_id = notebookutils.lakehouse.get(\"Lakehousewschema\", workspace_id).id #insert Lakehouse Name"
   ]
  },
  {
   "cell_type": "markdown",
   "id": "cf522002-4f4d-413e-9837-1565927639fe",
   "metadata": {
    "microsoft": {
     "language": "python",
     "language_group": "synapse_pyspark"
    },
    "nteract": {
     "transient": {
      "deleting": false
     }
    }
   },
   "source": [
    "#### Reusable function to Vacuum all tables in a path"
   ]
  },
  {
   "cell_type": "code",
   "execution_count": null,
   "id": "947cd0b8-e340-422a-90de-54f89cb36f14",
   "metadata": {
    "microsoft": {
     "language": "python",
     "language_group": "synapse_pyspark"
    }
   },
   "outputs": [],
   "source": [
    "def vacuumTable(tables):\n",
    "    # Perform Vacuum for each table\n",
    "    for table in tables:\n",
    "        try:\n",
    "            print(table.path)\n",
    "            # Access the Delta table\n",
    "            delta_table = DeltaTable.forPath(spark, table.path)\n",
    "            # Perform VACUUM with a retention period of 7 days (168 hours)\n",
    "            print(f\"Vacuuming table: {table} with a retention period of 7 days.\")\n",
    "            delta_table.vacuum(retentionHours=168)\n",
    "            \n",
    "            # print(f\"Vacuum operation completed for table: {table_name}\\n\")\n",
    "        except Exception as e:\n",
    "            print(f\"Error processing table {table_name}: {str(e)}\") "
   ]
  },
  {
   "cell_type": "markdown",
   "id": "24082b42-a2ea-4bf5-bf15-7cb56c8b7035",
   "metadata": {
    "microsoft": {
     "language": "python",
     "language_group": "synapse_pyspark"
    },
    "nteract": {
     "transient": {
      "deleting": false
     }
    }
   },
   "source": [
    "#### Logic.Run"
   ]
  },
  {
   "cell_type": "code",
   "execution_count": null,
   "id": "0bbcb023-64ea-4069-9927-cea585883b7b",
   "metadata": {
    "microsoft": {
     "language": "python",
     "language_group": "synapse_pyspark"
    }
   },
   "outputs": [],
   "source": [
    "### Programmatically run Vacuum command automatically for multiple tables ###\n",
    "import os \n",
    "from delta.tables import DeltaTable\n",
    "\n",
    "lakehousePath = f\"abfss://\"+workspace_id+\"@onelake.dfs.fabric.microsoft.com/\"+lakehouse_id+\"/Tables\" \n",
    "table_schemas = mssparkutils.fs.ls(lakehousePath)\n",
    "\n",
    "for schema in table_schemas:\n",
    "    print(schema)\n",
    "    tables = mssparkutils.fs.ls(schema.path)\n",
    "    vacuumTable(tables)\n"
   ]
  }
 ],
 "metadata": {
  "dependencies": {},
  "kernel_info": {
   "name": "synapse_pyspark"
  },
  "kernelspec": {
   "display_name": "synapse_pyspark",
   "name": "synapse_pyspark"
  },
  "language_info": {
   "name": "python"
  },
  "microsoft": {
   "language": "python",
   "language_group": "synapse_pyspark",
   "ms_spell_check": {
    "ms_spell_check_language": "en"
   }
  },
  "nteract": {
   "version": "nteract-front-end@1.0.0"
  },
  "spark_compute": {
   "compute_id": "/trident/default",
   "session_options": {
    "conf": {
     "spark.synapse.nbs.session.timeout": "1200000"
    }
   }
  }
 },
 "nbformat": 4,
 "nbformat_minor": 5
}
